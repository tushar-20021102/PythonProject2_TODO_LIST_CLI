{
 "cells": [
  {
   "cell_type": "code",
   "execution_count": 2,
   "id": "9cd7b2a0-539a-4e94-a9db-7fbd5f66b388",
   "metadata": {},
   "outputs": [
    {
     "name": "stdout",
     "output_type": "stream",
     "text": [
      "\n",
      "=== TODO LIST ===\n",
      "1. View Tasks\n",
      "2. Add Task\n",
      "3. Delete Task\n",
      "4. Exit\n"
     ]
    },
    {
     "name": "stdin",
     "output_type": "stream",
     "text": [
      "Choose an option (1-4):  2\n",
      "Enter task:  learn python\n"
     ]
    },
    {
     "name": "stdout",
     "output_type": "stream",
     "text": [
      "Task added.\n",
      "\n",
      "=== TODO LIST ===\n",
      "1. View Tasks\n",
      "2. Add Task\n",
      "3. Delete Task\n",
      "4. Exit\n"
     ]
    },
    {
     "name": "stdin",
     "output_type": "stream",
     "text": [
      "Choose an option (1-4):  2\n",
      "Enter task:  making project\n"
     ]
    },
    {
     "name": "stdout",
     "output_type": "stream",
     "text": [
      "Task added.\n",
      "\n",
      "=== TODO LIST ===\n",
      "1. View Tasks\n",
      "2. Add Task\n",
      "3. Delete Task\n",
      "4. Exit\n"
     ]
    },
    {
     "name": "stdin",
     "output_type": "stream",
     "text": [
      "Choose an option (1-4):  abc\n"
     ]
    },
    {
     "name": "stdout",
     "output_type": "stream",
     "text": [
      "Invalid Option!\n",
      "\n",
      "=== TODO LIST ===\n",
      "1. View Tasks\n",
      "2. Add Task\n",
      "3. Delete Task\n",
      "4. Exit\n"
     ]
    },
    {
     "name": "stdin",
     "output_type": "stream",
     "text": [
      "Choose an option (1-4):  1\n"
     ]
    },
    {
     "name": "stdout",
     "output_type": "stream",
     "text": [
      "1. learn python\n",
      "2. making project\n",
      "\n",
      "=== TODO LIST ===\n",
      "1. View Tasks\n",
      "2. Add Task\n",
      "3. Delete Task\n",
      "4. Exit\n"
     ]
    },
    {
     "name": "stdin",
     "output_type": "stream",
     "text": [
      "Choose an option (1-4):  3\n"
     ]
    },
    {
     "name": "stdout",
     "output_type": "stream",
     "text": [
      "1. learn python\n",
      "2. making project\n"
     ]
    },
    {
     "name": "stdin",
     "output_type": "stream",
     "text": [
      "Enter task number to delete:  2\n"
     ]
    },
    {
     "name": "stdout",
     "output_type": "stream",
     "text": [
      "Deleted: making project\n",
      "\n",
      "=== TODO LIST ===\n",
      "1. View Tasks\n",
      "2. Add Task\n",
      "3. Delete Task\n",
      "4. Exit\n"
     ]
    },
    {
     "name": "stdin",
     "output_type": "stream",
     "text": [
      "Choose an option (1-4):  4\n"
     ]
    },
    {
     "name": "stdout",
     "output_type": "stream",
     "text": [
      "GOODBYE!\n"
     ]
    }
   ],
   "source": [
    "class ToDoList:\n",
    "    tasks = []  # class level list (shared across all static methods)\n",
    "\n",
    "    @staticmethod\n",
    "    def show_tasks():\n",
    "        if not ToDoList.tasks:\n",
    "            print(\"No tasks yet\")\n",
    "        else:\n",
    "            for i, task in enumerate(ToDoList.tasks, 1):\n",
    "                print(f\"{i}. {task}\")\n",
    "\n",
    "    @staticmethod\n",
    "    def add_task(task):\n",
    "        ToDoList.tasks.append(task)\n",
    "        print(\"Task added.\")\n",
    "\n",
    "    @staticmethod\n",
    "    def delete_task(index):\n",
    "        if 0 < index <= len(ToDoList.tasks):\n",
    "            removed = ToDoList.tasks.pop(index - 1)\n",
    "            print(f\"Deleted: {removed}\")\n",
    "        else:\n",
    "            print(\"Invalid task number.\")\n",
    "\n",
    "    @staticmethod\n",
    "    def menu():\n",
    "        print(\"\\n=== TODO LIST ===\")\n",
    "        print(\"1. View Tasks\")\n",
    "        print(\"2. Add Task\")\n",
    "        print(\"3. Delete Task\")\n",
    "        print(\"4. Exit\")\n",
    "\n",
    "\n",
    "\n",
    "while True:\n",
    "    ToDoList.menu()\n",
    "\n",
    "    choice = input(\"Choose an option (1-4): \")\n",
    "\n",
    "    if choice == '1':\n",
    "        ToDoList.show_tasks()\n",
    "    elif choice == '2':\n",
    "        task = input(\"Enter task: \")  # <-- FIXED: take input here\n",
    "        ToDoList.add_task(task)\n",
    "    elif choice == '3':\n",
    "        ToDoList.show_tasks()\n",
    "        try:\n",
    "            idx = int(input(\"Enter task number to delete: \"))\n",
    "            ToDoList.delete_task(idx)\n",
    "        except ValueError:\n",
    "            print(\"Please enter a valid number.\")\n",
    "    elif choice == '4':\n",
    "        print(\"GOODBYE!\")\n",
    "        break\n",
    "    else:\n",
    "        print(\"Invalid Option!\")\n"
   ]
  },
  {
   "cell_type": "code",
   "execution_count": null,
   "id": "dc41f8d4-262d-44b0-83ef-cd4bc6b6ece6",
   "metadata": {},
   "outputs": [],
   "source": []
  }
 ],
 "metadata": {
  "kernelspec": {
   "display_name": "Python 3 (ipykernel)",
   "language": "python",
   "name": "python3"
  },
  "language_info": {
   "codemirror_mode": {
    "name": "ipython",
    "version": 3
   },
   "file_extension": ".py",
   "mimetype": "text/x-python",
   "name": "python",
   "nbconvert_exporter": "python",
   "pygments_lexer": "ipython3",
   "version": "3.13.5"
  }
 },
 "nbformat": 4,
 "nbformat_minor": 5
}
