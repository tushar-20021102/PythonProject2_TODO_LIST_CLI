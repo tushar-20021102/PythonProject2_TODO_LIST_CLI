{
 "cells": [
  {
   "cell_type": "code",
   "execution_count": null,
   "id": "94a40a83-8131-461d-b763-262e16fc33ad",
   "metadata": {},
   "outputs": [
    {
     "name": "stdout",
     "output_type": "stream",
     "text": [
      "\n",
      "=== TODO LIST ===\n",
      "1. View Tasks\n",
      "2. Add Task\n",
      "3. Delete Task\n",
      "4. Exit\n"
     ]
    }
   ],
   "source": [
    "class ToDoList:\n",
    "    def __init__(self): # constructor to initialize an empty task list\n",
    "        self.tasks = []\n",
    "\n",
    "    def show_tasks(self): # display all tasks\n",
    "        if not self.tasks:\n",
    "            print(\"No tasks yet\")\n",
    "        else:\n",
    "            for i, task in enumerate(self.tasks, 1):\n",
    "                print(f\"{i}. {task}\")\n",
    "\n",
    "    def add_task(self, task): # add a new task\n",
    "        self.tasks.append(task)\n",
    "        print(\"Task added.\")\n",
    "\n",
    "    def delete_task(self, index): # delete a task by number\n",
    "        if 0 < index <= len(self.tasks):\n",
    "            removed = self.tasks.pop(index - 1)\n",
    "            print(f\"Deleted: {removed}\")\n",
    "        else:\n",
    "            print(\"Invalid task number.\")\n",
    "\n",
    "\n",
    "\n",
    "# ==== DRIVER CODE ====\n",
    "todo = ToDoList() # create an object of ToDoList class\n",
    "\n",
    "while True:\n",
    "    print(\"\\n=== TODO LIST ===\")\n",
    "    print(\"1. View Tasks\")\n",
    "    print(\"2. Add Task\")\n",
    "    print(\"3. Delete Task\")\n",
    "    print(\"4. Exit\")\n",
    "\n",
    "    choice = input(\"Enter your choice: \")\n",
    "\n",
    "    if choice == '1':\n",
    "        todo.show_tasks()\n",
    "\n",
    "    elif choice == '2':\n",
    "        task = input(\"Enter task: \")\n",
    "        todo.add_task(task)\n",
    "\n",
    "    elif choice == '3':\n",
    "        todo.show_tasks()\n",
    "        try:\n",
    "            idx = int(input(\"Enter task number to delete: \"))\n",
    "            todo.delete_task(idx)\n",
    "        except ValueError:\n",
    "            print(\"Please enter a valid number.\")\n",
    "\n",
    "    elif choice == '4':\n",
    "        print(\"GOODBYE!\")\n",
    "        break\n",
    "\n",
    "    else:\n",
    "        print(\"Invalid Option\")\n"
   ]
  },
  {
   "cell_type": "code",
   "execution_count": null,
   "id": "8de427b6-93b9-4802-860d-d44c3ca5f84c",
   "metadata": {},
   "outputs": [],
   "source": []
  }
 ],
 "metadata": {
  "kernelspec": {
   "display_name": "Python 3 (ipykernel)",
   "language": "python",
   "name": "python3"
  },
  "language_info": {
   "codemirror_mode": {
    "name": "ipython",
    "version": 3
   },
   "file_extension": ".py",
   "mimetype": "text/x-python",
   "name": "python",
   "nbconvert_exporter": "python",
   "pygments_lexer": "ipython3",
   "version": "3.13.5"
  }
 },
 "nbformat": 4,
 "nbformat_minor": 5
}
