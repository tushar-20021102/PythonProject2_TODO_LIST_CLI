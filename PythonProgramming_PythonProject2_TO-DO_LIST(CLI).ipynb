{
 "cells": [
  {
   "cell_type": "code",
   "execution_count": null,
   "id": "1149c541-f807-46c2-8d3f-d95708f5b614",
   "metadata": {},
   "outputs": [
    {
     "name": "stdout",
     "output_type": "stream",
     "text": [
      "\n",
      "=== TODO_LIST ===\n",
      "1. View Tasks\n",
      "2. Add Task\n",
      "3. Delete Task\n",
      "4. Exit\n"
     ]
    }
   ],
   "source": [
    "todo_list = [] #creates an empty list named todo_list\n",
    "#This will store all tasks as string\n",
    "\n",
    "def show_tasks(): #Display all tasks in the todo_list\n",
    "    if not todo_list: #Checks if the list is empty\n",
    "        print(\"No tasks yet\") #if empty, then print it\n",
    "    else:\n",
    "        for i, task in enumerate(todo_list, 1): #loops through the list, giving index starting from 1 insted of 0\n",
    "            print(f\"{i}. {task}\") #print the task with its number\n",
    "\n",
    "def add_task(task): #Adds a new task\n",
    "    todo_list.append(task) #Adds tge task string to the end of the todo_list\n",
    "    print(\"Task added.\") #prints confermation\n",
    "\n",
    "def delete_task(index): #Delete a task by its numbers\n",
    "    if 0 < index <= len(todo_list): #checks the entered number is valid or not\n",
    "        removed = todo_list.pop(index-1) #removes the tasks at position (index-1) --> python lists are 0-based and stores deleted task in removed\n",
    "        print(f\"Deleted: {removed}\") #prints deleted task\n",
    "    else:\n",
    "        print(\"Invalid task number.\") #If the entered is invalid , prints the statement\n",
    "\n",
    "while True: #Starts an infinite loop --> keeps showing the menu untill the user chooses Exit(4)\n",
    "    print(\"\\n=== TODO_LIST ===\") #add a new line before the menu for neatness\n",
    "    #Displays the menu each-time inside the loop\n",
    "    print(\"1. View Tasks\")\n",
    "    print(\"2. Add Task\")\n",
    "    print(\"3. Delete Task\")\n",
    "    print(\"4. Exit\")\n",
    "    \n",
    "    #Asks the users to enter a number from 1 to 4\n",
    "    choice = input(\"Choose an option (1-4): \") #Input is stored in variable choice as a String\n",
    "    if choice == '1':\n",
    "        show_tasks() #to display all the tasks\n",
    "    elif choice == '2':\n",
    "        task = input(\"Enter task: \")\n",
    "        add_task(task) #passes the string into add_task()\n",
    "    elif choice == '3':\n",
    "        show_tasks()\n",
    "        try: #prevents error\n",
    "            idx = int(input(\"Enter task number to delete: \")) #ask for a number convert into int\n",
    "            delete_task(idx) #calls the function to delete the task\n",
    "        except ValueError: #If user type something invalid (like --> 'abc')\n",
    "            print(\"Please enter a valid number.\")\n",
    "    elif choice == '4':\n",
    "        print(\"GOODBYE!\")\n",
    "        break #exists the infinite loop --> program ends\n",
    "    else: #If user types anything other than 1,2,3,4 prints \"Invalid Option.\"\n",
    "        print(\"Invalid Option.\")"
   ]
  },
  {
   "cell_type": "code",
   "execution_count": null,
   "id": "6b53b3d1-4ce9-4e08-95b3-0e363974db49",
   "metadata": {},
   "outputs": [],
   "source": []
  }
 ],
 "metadata": {
  "kernelspec": {
   "display_name": "Python 3 (ipykernel)",
   "language": "python",
   "name": "python3"
  },
  "language_info": {
   "codemirror_mode": {
    "name": "ipython",
    "version": 3
   },
   "file_extension": ".py",
   "mimetype": "text/x-python",
   "name": "python",
   "nbconvert_exporter": "python",
   "pygments_lexer": "ipython3",
   "version": "3.13.5"
  }
 },
 "nbformat": 4,
 "nbformat_minor": 5
}
