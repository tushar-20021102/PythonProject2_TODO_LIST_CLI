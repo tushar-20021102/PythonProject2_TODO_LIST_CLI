{
 "cells": [
  {
   "cell_type": "code",
   "execution_count": null,
   "id": "24036693-dd78-4087-b1f6-908c7acd9db9",
   "metadata": {},
   "outputs": [
    {
     "name": "stdout",
     "output_type": "stream",
     "text": [
      "\n",
      "=== TODO LIST ===\n",
      "1. View Tasks\n",
      "2. Add Task\n",
      "3. Delete Task\n",
      "4. Exit\n"
     ]
    },
    {
     "name": "stdin",
     "output_type": "stream",
     "text": [
      "Choose an option (1-4):  1\n"
     ]
    },
    {
     "name": "stdout",
     "output_type": "stream",
     "text": [
      "No tasks yet\n",
      "\n",
      "=== TODO LIST ===\n",
      "1. View Tasks\n",
      "2. Add Task\n",
      "3. Delete Task\n",
      "4. Exit\n"
     ]
    }
   ],
   "source": [
    "class ToDoList:\n",
    "    todo_list = []  # class variable to store all tasks\n",
    "\n",
    "    @classmethod\n",
    "    def show_tasks(cls):\n",
    "        if not cls.todo_list:\n",
    "            print(\"No tasks yet\")\n",
    "        else:\n",
    "            for i, task in enumerate(cls.todo_list, 1):\n",
    "                print(f\"{i}. {task}\")\n",
    "\n",
    "    @classmethod\n",
    "    def add_task(cls, task):\n",
    "        cls.todo_list.append(task)\n",
    "        print(\"Task added.\")\n",
    "\n",
    "    @classmethod\n",
    "    def delete_task(cls, index):\n",
    "        if 0 < index <= len(cls.todo_list):\n",
    "            removed = cls.todo_list.pop(index - 1)\n",
    "            print(f\"Deleted: {removed}\")\n",
    "        else:\n",
    "            print(\"Invalid task number.\")\n",
    "\n",
    "\n",
    "# === DRIVER CODE ===\n",
    "while True:\n",
    "    print(\"\\n=== TODO LIST ===\")\n",
    "    print(\"1. View Tasks\")\n",
    "    print(\"2. Add Task\")\n",
    "    print(\"3. Delete Task\")\n",
    "    print(\"4. Exit\")\n",
    "\n",
    "    choice = input(\"Choose an option (1-4): \")\n",
    "\n",
    "    if choice == '1':\n",
    "        ToDoList.show_tasks()\n",
    "    elif choice == '2':\n",
    "        task = input(\"Enter task: \")\n",
    "        ToDoList.add_task(task)\n",
    "    elif choice == '3':\n",
    "        ToDoList.show_tasks()\n",
    "        try:\n",
    "            idx = int(input(\"Enter task number to delete: \"))\n",
    "            ToDoList.delete_task(idx)\n",
    "        except ValueError:\n",
    "            print(\"Please enter a valid number.\")\n",
    "    elif choice == '4':\n",
    "        print(\"GOODBYE!\")\n",
    "        break\n",
    "    else:\n",
    "        print(\"Invalid Option.\")\n"
   ]
  },
  {
   "cell_type": "code",
   "execution_count": null,
   "id": "6b003fb3-6031-4ec1-8fa1-78095c79a551",
   "metadata": {},
   "outputs": [],
   "source": []
  }
 ],
 "metadata": {
  "kernelspec": {
   "display_name": "Python 3 (ipykernel)",
   "language": "python",
   "name": "python3"
  },
  "language_info": {
   "codemirror_mode": {
    "name": "ipython",
    "version": 3
   },
   "file_extension": ".py",
   "mimetype": "text/x-python",
   "name": "python",
   "nbconvert_exporter": "python",
   "pygments_lexer": "ipython3",
   "version": "3.13.5"
  }
 },
 "nbformat": 4,
 "nbformat_minor": 5
}
